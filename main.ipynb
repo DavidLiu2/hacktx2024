{
 "cells": [
  {
   "cell_type": "code",
   "execution_count": 115,
   "metadata": {},
   "outputs": [],
   "source": [
    "import numpy as np\n",
    "import pandas as pd\n",
    "import tensorflow as tf\n",
    "from tensorflow.keras.preprocessing.text import Tokenizer\n",
    "from tensorflow.keras.preprocessing.sequence import pad_sequences\n",
    "from tensorflow.keras.models import Sequential\n",
    "from tensorflow.keras.layers import Embedding, LSTM, Dense, Dropout, Bidirectional\n",
    "from sklearn.model_selection import train_test_split\n",
    "import matplotlib"
   ]
  },
  {
   "cell_type": "code",
   "execution_count": 116,
   "metadata": {},
   "outputs": [
    {
     "name": "stdout",
     "output_type": "stream",
     "text": [
      "(2834, 4)\n"
     ]
    },
    {
     "data": {
      "text/html": [
       "<div>\n",
       "<style scoped>\n",
       "    .dataframe tbody tr th:only-of-type {\n",
       "        vertical-align: middle;\n",
       "    }\n",
       "\n",
       "    .dataframe tbody tr th {\n",
       "        vertical-align: top;\n",
       "    }\n",
       "\n",
       "    .dataframe thead th {\n",
       "        text-align: right;\n",
       "    }\n",
       "</style>\n",
       "<table border=\"1\" class=\"dataframe\">\n",
       "  <thead>\n",
       "    <tr style=\"text-align: right;\">\n",
       "      <th></th>\n",
       "      <th>id</th>\n",
       "      <th>excerpt</th>\n",
       "      <th>target</th>\n",
       "      <th>standard_error</th>\n",
       "    </tr>\n",
       "  </thead>\n",
       "  <tbody>\n",
       "    <tr>\n",
       "      <th>0</th>\n",
       "      <td>c12129c31</td>\n",
       "      <td>When the young people returned to the ballroom...</td>\n",
       "      <td>-0.340259</td>\n",
       "      <td>0.464009</td>\n",
       "    </tr>\n",
       "    <tr>\n",
       "      <th>1</th>\n",
       "      <td>85aa80a4c</td>\n",
       "      <td>All through dinner time, Mrs. Fayre was somewh...</td>\n",
       "      <td>-0.315372</td>\n",
       "      <td>0.480805</td>\n",
       "    </tr>\n",
       "    <tr>\n",
       "      <th>2</th>\n",
       "      <td>b69ac6792</td>\n",
       "      <td>As Roger had predicted, the snow departed as q...</td>\n",
       "      <td>-0.580118</td>\n",
       "      <td>0.476676</td>\n",
       "    </tr>\n",
       "    <tr>\n",
       "      <th>3</th>\n",
       "      <td>dd1000b26</td>\n",
       "      <td>And outside before the palace a great garden w...</td>\n",
       "      <td>-1.054013</td>\n",
       "      <td>0.450007</td>\n",
       "    </tr>\n",
       "    <tr>\n",
       "      <th>4</th>\n",
       "      <td>37c1b32fb</td>\n",
       "      <td>Once upon a time there were Three Bears who li...</td>\n",
       "      <td>0.247197</td>\n",
       "      <td>0.510845</td>\n",
       "    </tr>\n",
       "    <tr>\n",
       "      <th>5</th>\n",
       "      <td>f9bf357fe</td>\n",
       "      <td>Hal and Chester found ample time to take an in...</td>\n",
       "      <td>-0.861809</td>\n",
       "      <td>0.480936</td>\n",
       "    </tr>\n",
       "    <tr>\n",
       "      <th>6</th>\n",
       "      <td>eaf8e7355</td>\n",
       "      <td>Hal Paine and Chester Crawford were typical Am...</td>\n",
       "      <td>-1.759061</td>\n",
       "      <td>0.476507</td>\n",
       "    </tr>\n",
       "    <tr>\n",
       "      <th>7</th>\n",
       "      <td>0a43a07f1</td>\n",
       "      <td>On the twenty-second of February, 1916, an aut...</td>\n",
       "      <td>-0.952325</td>\n",
       "      <td>0.498116</td>\n",
       "    </tr>\n",
       "    <tr>\n",
       "      <th>8</th>\n",
       "      <td>f7eff7419</td>\n",
       "      <td>The boys left the capitol and made their way d...</td>\n",
       "      <td>-0.371641</td>\n",
       "      <td>0.463710</td>\n",
       "    </tr>\n",
       "    <tr>\n",
       "      <th>9</th>\n",
       "      <td>d96e6dbcd</td>\n",
       "      <td>One day he had gone beyond any point which he ...</td>\n",
       "      <td>-1.238432</td>\n",
       "      <td>0.465900</td>\n",
       "    </tr>\n",
       "  </tbody>\n",
       "</table>\n",
       "</div>"
      ],
      "text/plain": [
       "          id                                            excerpt    target  \\\n",
       "0  c12129c31  When the young people returned to the ballroom... -0.340259   \n",
       "1  85aa80a4c  All through dinner time, Mrs. Fayre was somewh... -0.315372   \n",
       "2  b69ac6792  As Roger had predicted, the snow departed as q... -0.580118   \n",
       "3  dd1000b26  And outside before the palace a great garden w... -1.054013   \n",
       "4  37c1b32fb  Once upon a time there were Three Bears who li...  0.247197   \n",
       "5  f9bf357fe  Hal and Chester found ample time to take an in... -0.861809   \n",
       "6  eaf8e7355  Hal Paine and Chester Crawford were typical Am... -1.759061   \n",
       "7  0a43a07f1  On the twenty-second of February, 1916, an aut... -0.952325   \n",
       "8  f7eff7419  The boys left the capitol and made their way d... -0.371641   \n",
       "9  d96e6dbcd  One day he had gone beyond any point which he ... -1.238432   \n",
       "\n",
       "   standard_error  \n",
       "0        0.464009  \n",
       "1        0.480805  \n",
       "2        0.476676  \n",
       "3        0.450007  \n",
       "4        0.510845  \n",
       "5        0.480936  \n",
       "6        0.476507  \n",
       "7        0.498116  \n",
       "8        0.463710  \n",
       "9        0.465900  "
      ]
     },
     "execution_count": 116,
     "metadata": {},
     "output_type": "execute_result"
    }
   ],
   "source": [
    "df = pd.read_csv(\"commonlitreadabilityprize/train.csv\")\n",
    "df = df.drop(columns=[\"url_legal\", \"license\"])\n",
    "print(df.shape)\n",
    "df.head(10)"
   ]
  },
  {
   "cell_type": "code",
   "execution_count": 117,
   "metadata": {},
   "outputs": [
    {
     "name": "stdout",
     "output_type": "stream",
     "text": [
      "-3.676267773 1.711389827\n"
     ]
    },
    {
     "data": {
      "image/png": "[encoded data removed]",
      "text/plain": [
       "<Figure size 640x480 with 1 Axes>"
      ]
     },
     "metadata": {},
     "output_type": "display_data"
    }
   ],
   "source": [
    "df[\"target\"].hist(bins=20)\n",
    "print(df[\"target\"].min(), df[\"target\"].max())"
   ]
  },
  {
   "cell_type": "code",
   "execution_count": 118,
   "metadata": {},
   "outputs": [],
   "source": [
    "# added grade column based on excerpt\n",
    "# use standard error to adjust scores with the confidence level\n",
    "\n",
    "df['grade'] = pd.cut(df['target'], bins=[-2.35, -1.875, -1.53, -1.199, -1.192, -0.643, -0.466, -.136, .47 , .81, 1.71], labels=range(12, 2, -1))"
   ]
  },
  {
   "cell_type": "code",
   "execution_count": 119,
   "metadata": {},
   "outputs": [],
   "source": [
    "import tensorflow as tf\n",
    "from tensorflow.keras.layers import Layer\n",
    "\n",
    "@tf.keras.utils.register_keras_serializable()\n",
    "class ReadabilityScoreLayer(Layer):\n",
    "    def __init__(self, **kwargs):\n",
    "        super(ReadabilityScoreLayer, self).__init__(**kwargs)\n",
    "\n",
    "    def call(self, inputs):\n",
    "        # Split text by spaces to estimate word count\n",
    "        words = tf.strings.split(inputs)\n",
    "        word_count = tf.map_fn(lambda x: tf.size(x), words, fn_output_signature=tf.int32)\n",
    "        word_count = tf.cast(word_count, tf.float32)\n",
    "        \n",
    "        # Estimate sentence count by counting periods ('.')\n",
    "        sentence_count = tf.strings.regex_replace(inputs, r\"[^\\.]\", \"\")\n",
    "        sentence_count = tf.strings.length(sentence_count)\n",
    "        sentence_count = tf.cast(sentence_count, tf.float32)\n",
    "        sentence_count = tf.maximum(sentence_count, 1.0)  # Avoid division by zero\n",
    "\n",
    "        # Simplified readability score calculation\n",
    "        readability_score = (0.39 * (word_count / sentence_count)) + (11.8 * (word_count / word_count)) - 15.59\n",
    "        \n",
    "        # Expand dimensions to match (batch_size, 1)\n",
    "        return tf.expand_dims(readability_score, axis=-1)\n",
    "    \n",
    "    def compute_output_shape(self, input_shape):\n",
    "        # Define the output shape (batch_size, 1)\n",
    "        return (input_shape[0], 1)"
   ]
  },
  {
   "cell_type": "code",
   "execution_count": 120,
   "metadata": {},
   "outputs": [],
   "source": [
    "# Split data into training and validation sets\n",
    "train_df, val_df = train_test_split(df, test_size=0.2, random_state=42)"
   ]
  },
  {
   "cell_type": "code",
   "execution_count": 121,
   "metadata": {},
   "outputs": [],
   "source": [
    "from tensorflow.keras.layers import TextVectorization, Embedding, GlobalAveragePooling1D, Dense, Dropout, Input, Concatenate\n",
    "from tensorflow.keras.models import Model\n",
    "\n",
    "# Define the inputs\n",
    "text_input = Input(shape=(), dtype=tf.string, name=\"text_input\")\n",
    "\n",
    "# Text Vectorization and Embedding\n",
    "vectorizer = TextVectorization(max_tokens=10000, output_sequence_length=200)\n",
    "vectorizer.adapt(df['excerpt'])  # Fit vectorizer on the text data\n",
    "text_vectorized = vectorizer(text_input)\n",
    "embedding = Embedding(input_dim=10000, output_dim=128)(text_vectorized)\n",
    "pooled_text = GlobalAveragePooling1D()(embedding)\n",
    "\n",
    "# Readability Score Calculation\n",
    "readability_score = ReadabilityScoreLayer()(text_input)  # Calculates readability score internally\n",
    "\n",
    "# Concatenate text features and readability score\n",
    "concatenated = Concatenate()([pooled_text, readability_score])\n",
    "\n",
    "# Define the dense layers for regression\n",
    "dense1 = Dense(128, activation=\"relu\")(concatenated)\n",
    "dropout1 = Dropout(0.5)(dense1)\n",
    "dense2 = Dense(64, activation=\"relu\")(dropout1)\n",
    "dropout2 = Dropout(0.5)(dense2)\n",
    "\n",
    "# Output layer\n",
    "output = Dense(1, name=\"target_output\")(dropout2)\n",
    "\n",
    "# Define the model\n",
    "model = Model(inputs=text_input, outputs=output)\n",
    "\n",
    "# Compile the model\n",
    "model.compile(optimizer='adam', loss='mean_squared_error', metrics=['mae'])\n"
   ]
  },
  {
   "cell_type": "code",
   "execution_count": 122,
   "metadata": {},
   "outputs": [
    {
     "name": "stdout",
     "output_type": "stream",
     "text": [
      "Epoch 1/10\n",
      "\u001b[1m57/57\u001b[0m \u001b[32m━━━━━━━━━━━━━━━━━━━━\u001b[0m\u001b[37m\u001b[0m \u001b[1m2s\u001b[0m 11ms/step - loss: 1.5105 - mae: 0.9385 - val_loss: 1.0193 - val_mae: 0.8120\n",
      "Epoch 2/10\n",
      "\u001b[1m57/57\u001b[0m \u001b[32m━━━━━━━━━━━━━━━━━━━━\u001b[0m\u001b[37m\u001b[0m \u001b[1m0s\u001b[0m 8ms/step - loss: 1.0575 - mae: 0.8089 - val_loss: 0.8018 - val_mae: 0.7354\n",
      "Epoch 3/10\n",
      "\u001b[1m57/57\u001b[0m \u001b[32m━━━━━━━━━━━━━━━━━━━━\u001b[0m\u001b[37m\u001b[0m \u001b[1m0s\u001b[0m 8ms/step - loss: 0.8209 - mae: 0.7095 - val_loss: 0.6241 - val_mae: 0.6440\n",
      "Epoch 4/10\n",
      "\u001b[1m57/57\u001b[0m \u001b[32m━━━━━━━━━━━━━━━━━━━━\u001b[0m\u001b[37m\u001b[0m \u001b[1m0s\u001b[0m 8ms/step - loss: 0.6652 - mae: 0.6399 - val_loss: 0.6713 - val_mae: 0.6676\n",
      "Epoch 5/10\n",
      "\u001b[1m57/57\u001b[0m \u001b[32m━━━━━━━━━━━━━━━━━━━━\u001b[0m\u001b[37m\u001b[0m \u001b[1m0s\u001b[0m 7ms/step - loss: 0.5288 - mae: 0.5730 - val_loss: 0.5694 - val_mae: 0.6071\n",
      "Epoch 6/10\n",
      "\u001b[1m57/57\u001b[0m \u001b[32m━━━━━━━━━━━━━━━━━━━━\u001b[0m\u001b[37m\u001b[0m \u001b[1m0s\u001b[0m 8ms/step - loss: 0.5010 - mae: 0.5472 - val_loss: 0.5687 - val_mae: 0.6087\n",
      "Epoch 7/10\n",
      "\u001b[1m57/57\u001b[0m \u001b[32m━━━━━━━━━━━━━━━━━━━━\u001b[0m\u001b[37m\u001b[0m \u001b[1m0s\u001b[0m 7ms/step - loss: 0.4264 - mae: 0.5085 - val_loss: 0.5252 - val_mae: 0.5776\n",
      "Epoch 8/10\n",
      "\u001b[1m57/57\u001b[0m \u001b[32m━━━━━━━━━━━━━━━━━━━━\u001b[0m\u001b[37m\u001b[0m \u001b[1m0s\u001b[0m 7ms/step - loss: 0.3528 - mae: 0.4536 - val_loss: 0.5029 - val_mae: 0.5608\n",
      "Epoch 9/10\n",
      "\u001b[1m57/57\u001b[0m \u001b[32m━━━━━━━━━━━━━━━━━━━━\u001b[0m\u001b[37m\u001b[0m \u001b[1m0s\u001b[0m 7ms/step - loss: 0.3360 - mae: 0.4353 - val_loss: 0.5037 - val_mae: 0.5627\n",
      "Epoch 10/10\n",
      "\u001b[1m57/57\u001b[0m \u001b[32m━━━━━━━━━━━━━━━━━━━━\u001b[0m\u001b[37m\u001b[0m \u001b[1m0s\u001b[0m 8ms/step - loss: 0.2621 - mae: 0.3958 - val_loss: 0.4825 - val_mae: 0.5461\n"
     ]
    }
   ],
   "source": [
    "# Assuming train_df has 'excerpt' and 'target' columns\n",
    "train_texts = train_df['excerpt']\n",
    "train_targets = train_df['target']\n",
    "\n",
    "# Train the model using only the text input\n",
    "history = model.fit(\n",
    "    train_texts,\n",
    "    train_targets,\n",
    "    validation_split=0.2,\n",
    "    epochs=10,\n",
    "    batch_size=32\n",
    ")"
   ]
  },
  {
   "cell_type": "code",
   "execution_count": 123,
   "metadata": {},
   "outputs": [
    {
     "name": "stdout",
     "output_type": "stream",
     "text": [
      "\u001b[1m1/1\u001b[0m \u001b[32m━━━━━━━━━━━━━━━━━━━━\u001b[0m\u001b[37m\u001b[0m \u001b[1m0s\u001b[0m 123ms/step\n",
      "                                             excerpt  predictions grade\n",
      "0  Katie was six years old. She was part of a big...     0.582353     4\n",
      "1  Emma was very excited. Today was the champions...     0.076189     5\n",
      "2  Most babies’ first words are something like “D...    -0.741994     8\n",
      "3  Juneteenth, celebrated on June 19th, is a sign...    -1.173740     8\n",
      "4  Mary Boykin Miller Chesnut (1823-1886) was a p...    -0.104494     5\n",
      "5  He told me what had happened to him and his co...     0.158957     5\n",
      "6  Mine eye and heart are at a mortal war,\\nHow t...    -1.764772    11\n"
     ]
    }
   ],
   "source": [
    "import textstat\n",
    "from sklearn.preprocessing import MinMaxScaler\n",
    "import tensorflow as tf\n",
    "\n",
    "# Load the test data\n",
    "test_df = pd.read_csv(\"commonlitreadabilityprize/test copy.csv\")\n",
    "test_texts = test_df['excerpt']\n",
    "\n",
    "# Predict without needing to compute readability scores manually\n",
    "predictions = model.predict(test_texts)\n",
    "test_df['predictions'] = predictions\n",
    "test_df['grade'] = pd.cut(test_df['predictions'], bins=[-2.35, -1.875, -1.53, -1.199, -1.192, -0.643, -0.466, -.136, .47 , .81, 1.71], labels=range(12, 2, -1))\n",
    "\n",
    "# Display predictions\n",
    "print(test_df[['excerpt', 'predictions', 'grade']])\n",
    "\n",
    "model.save(\"model.keras\")"
   ]
  }
 ],
 "metadata": {
  "kernelspec": {
   "display_name": ".venv",
   "language": "python",
   "name": "python3"
  },
  "language_info": {
   "codemirror_mode": {
    "name": "ipython",
    "version": 3
   },
   "file_extension": ".py",
   "mimetype": "text/x-python",
   "name": "python",
   "nbconvert_exporter": "python",
   "pygments_lexer": "ipython3",
   "version": "3.12.4"
  }
 },
 "nbformat": 4,
 "nbformat_minor": 2
}
